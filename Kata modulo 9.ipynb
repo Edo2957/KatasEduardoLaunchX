{
 "cells": [
  {
   "cell_type": "markdown",
   "metadata": {},
   "source": [
    "### Ejercicio 1"
   ]
  },
  {
   "cell_type": "code",
   "execution_count": 72,
   "metadata": {},
   "outputs": [
    {
     "name": "stdout",
     "output_type": "stream",
     "text": [
      "Reporte Final:\n",
      "    --------------------------\n",
      "    Primario:30%\n",
      "    Secundario:100%\n",
      "    Reserva:100%\n",
      "    --------------------------\n",
      "    Combustible total: 76.66666666666667%\n",
      "    \n"
     ]
    }
   ],
   "source": [
    "def funcion(valores):\n",
    "    return sum(valores) / len(valores)\n",
    "\n",
    "def reporte(Primario, Secundario, Reserva): \n",
    "    return f\"\"\"Reporte Final:\n",
    "    --------------------------\n",
    "    Primario:{Primario}%\n",
    "    Secundario:{Secundario}%\n",
    "    Reserva:{Reserva}%\n",
    "    --------------------------\n",
    "    Combustible total: {funcion([Primario, Secundario, Reserva])}%\n",
    "    \"\"\"\n",
    "\n",
    "print (reporte(30,100,100))"
   ]
  },
  {
   "cell_type": "markdown",
   "metadata": {},
   "source": [
    "### Ejercicio 2"
   ]
  },
  {
   "cell_type": "code",
   "execution_count": 96,
   "metadata": {},
   "outputs": [
    {
     "name": "stdout",
     "output_type": "stream",
     "text": [
      "\n",
      "    ----------------------------------------\n",
      "    Mision a la Luna\n",
      "    ----------------------------------------\n",
      "\n",
      "    Tiempo total de viaje: 347 minutos\n",
      "    Combustible restante: 500000 galones\n",
      "    tanque_principal --> 300000 gallons left\n",
      "tanque_externo --> 200000 gallons left\n",
      "\n"
     ]
    }
   ],
   "source": [
    "def reporte(destination, *minutes, **fuel_reservoirs):\n",
    "    main_report = f\"\"\"\n",
    "    {'-'*40}\n",
    "    Mision a la {destination}\n",
    "    {'-'*40}\n",
    "\n",
    "    Tiempo total de viaje: {sum(minutes)} minutos\n",
    "    Combustible restante: {sum(fuel_reservoirs.values())} galones\n",
    "    \"\"\"\n",
    "    for tank_name, gallons in fuel_reservoirs.items():\n",
    "        main_report += f\"{tank_name} --> {gallons} gallons left\\n\"\n",
    "    return main_report\n",
    "\n",
    "print(reporte(\"Luna\", 15, 32, 300, tanque_principal=300000, tanque_externo=200000))"
   ]
  }
 ],
 "metadata": {
  "interpreter": {
   "hash": "5d240ba0dc525c389faa33f5dcce5b4f32b6d6aa6d70d6d2dd929bd2b09ab69f"
  },
  "kernelspec": {
   "display_name": "Python 3.10.2 64-bit",
   "language": "python",
   "name": "python3"
  },
  "language_info": {
   "codemirror_mode": {
    "name": "ipython",
    "version": 3
   },
   "file_extension": ".py",
   "mimetype": "text/x-python",
   "name": "python",
   "nbconvert_exporter": "python",
   "pygments_lexer": "ipython3",
   "version": "3.10.2"
  },
  "orig_nbformat": 4
 },
 "nbformat": 4,
 "nbformat_minor": 2
}
