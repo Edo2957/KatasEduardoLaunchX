{
 "cells": [
  {
   "cell_type": "markdown",
   "metadata": {},
   "source": [
    "### Ejercicio 1\n",
    "Anañadir pluton al ultimo de una lista"
   ]
  },
  {
   "cell_type": "code",
   "execution_count": 7,
   "metadata": {},
   "outputs": [
    {
     "name": "stdout",
     "output_type": "stream",
     "text": [
      "Hay 9 planetas en el sistema solar y Pluton es el ultimo\n"
     ]
    }
   ],
   "source": [
    "Planetas = ['Mercurio', 'Venus', 'Tierra', 'Marte', 'Júpiter',  'Saturno', 'Urano' , 'Neptuno']\n",
    "\n",
    "Planetas.append ('Pluton')\n",
    "\n",
    "print ('Hay', len(Planetas),'planetas en el sistema solar y', Planetas[-1], 'es el ultimo')\n"
   ]
  },
  {
   "cell_type": "markdown",
   "metadata": {},
   "source": [
    "### Ejercicio 2\n",
    "Planetas mas cercanos y lejanos al sol que el que el usuario ingreso\n"
   ]
  },
  {
   "cell_type": "code",
   "execution_count": 28,
   "metadata": {},
   "outputs": [
    {
     "name": "stdout",
     "output_type": "stream",
     "text": [
      "El/Los planetas mas cercano/s al sol a comparacion de Marte es/son ['Mercurio', 'Venus', 'Tierra'] y los mas lejanos a comparacion de Marte es/son ['Júpiter', 'Saturno', 'Urano', 'Neptuno']\n"
     ]
    }
   ],
   "source": [
    "Planetas = ['Mercurio', 'Venus', 'Tierra', 'Marte', 'Júpiter',  'Saturno', 'Urano' , 'Neptuno']\n",
    "\n",
    "usuario_planeta = input('Introduce el nombre de un planeta que deseas buscar')\n",
    "index = Planetas.index(usuario_planeta)\n",
    "print ('El/Los planetas mas cercano/s al sol a comparacion de ' + usuario_planeta, 'es/son', Planetas[0:index], 'y los mas lejanos a comparacion de ' + usuario_planeta, 'es/son', Planetas[index + 1:])\n",
    "\n"
   ]
  }
 ],
 "metadata": {
  "interpreter": {
   "hash": "5d240ba0dc525c389faa33f5dcce5b4f32b6d6aa6d70d6d2dd929bd2b09ab69f"
  },
  "kernelspec": {
   "display_name": "Python 3.10.2 64-bit",
   "language": "python",
   "name": "python3"
  },
  "language_info": {
   "codemirror_mode": {
    "name": "ipython",
    "version": 3
   },
   "file_extension": ".py",
   "mimetype": "text/x-python",
   "name": "python",
   "nbconvert_exporter": "python",
   "pygments_lexer": "ipython3",
   "version": "3.10.2"
  },
  "orig_nbformat": 4
 },
 "nbformat": 4,
 "nbformat_minor": 2
}
